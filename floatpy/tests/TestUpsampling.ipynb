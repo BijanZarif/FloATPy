{
 "cells": [
  {
   "cell_type": "code",
   "execution_count": 1,
   "metadata": {
    "collapsed": false,
    "deletable": true,
    "editable": true
   },
   "outputs": [],
   "source": [
    "\"\"\"\n",
    "Script to test the upsampling.\n",
    "\"\"\"\n",
    "\n",
    "from floatpy.readers import samrai\n",
    "import floatpy.upsampling\n",
    "import numpy\n",
    "\n",
    "%matplotlib inline\n",
    "from matplotlib import pyplot as plt\n",
    "plt.rc(\"savefig\", dpi = 150)\n"
   ]
  },
  {
   "cell_type": "code",
   "execution_count": 2,
   "metadata": {
    "collapsed": false,
    "deletable": true,
    "editable": true
   },
   "outputs": [],
   "source": [
    "\"\"\"\n",
    "Set the path of the data directory for the data reader.\n",
    "\"\"\"\n",
    "\n",
    "data_reader = samrai.samraiDataReader()\n",
    "data_reader.setDataDirectoryPath('/home/manlong/Data/2D_density_wave_advection_AMR/' + \\\n",
    "                                 'viz_2D_density_wave_advection/visit_dump.00100/')\n"
   ]
  },
  {
   "cell_type": "code",
   "execution_count": 3,
   "metadata": {
    "collapsed": false,
    "deletable": true,
    "editable": true
   },
   "outputs": [],
   "source": [
    "\"\"\"\n",
    "Read the density data from all levels.\n",
    "\"\"\"\n",
    "\n",
    "data_reader.readSummary()\n",
    "\n",
    "var_names = ['density']\n",
    "num_ghosts = numpy.array([0, 0], dtype = numpy.int)\n",
    "periodic_dimension = numpy.array([False, False], dtype = numpy.bool)\n",
    "\n",
    "data_reader.readCombinedDataFromAllLevels(var_names, num_ghosts, periodic_dimension)\n",
    "\n",
    "data_rho = data_reader.getData('density')\n"
   ]
  },
  {
   "cell_type": "code",
   "execution_count": null,
   "metadata": {
    "collapsed": false,
    "deletable": true,
    "editable": true
   },
   "outputs": [],
   "source": [
    "\"\"\"\n",
    "Upsample the data.\n",
    "\"\"\"\n",
    "\n",
    "r = numpy.array([3, 3])\n",
    "\n",
    "data_upsampled_1 = floatpy.upsampling.upsample(data_rho, r, method = 'constant')\n",
    "data_upsampled_2 = floatpy.upsampling.upsample(data_rho, r, method = 'second_order_Lagrange')\n",
    "data_upsampled_3 = floatpy.upsampling.upsample(data_rho, r, method = 'fourth_order_Lagrange')\n",
    "data_upsampled_4 = floatpy.upsampling.upsample(data_rho, r, method = 'sixth_order_Lagrange')\n"
   ]
  },
  {
   "cell_type": "code",
   "execution_count": null,
   "metadata": {
    "collapsed": false,
    "deletable": true,
    "editable": true
   },
   "outputs": [],
   "source": [
    "\"\"\"\n",
    "Plot the original data.\n",
    "\"\"\"\n",
    "\n",
    "data_masked = numpy.ma.masked_where(numpy.isnan(data_rho), data_rho)\n",
    "\n",
    "plt.pcolormesh(data_masked[0,:,:].T, vmin=0.0, vmax=10.0)\n",
    "plt.axes().set_aspect('equal', 'datalim')\n",
    "plt.xlabel('x')\n",
    "plt.ylabel('y')\n",
    "plt.colorbar()\n",
    "plt.show()\n"
   ]
  },
  {
   "cell_type": "code",
   "execution_count": null,
   "metadata": {
    "collapsed": false,
    "deletable": true,
    "editable": true
   },
   "outputs": [],
   "source": [
    "\"\"\"\n",
    "Plot the first upsampled data.\n",
    "\"\"\"\n",
    "\n",
    "data_masked_1 = numpy.ma.masked_where(numpy.isnan(data_upsampled_1), data_upsampled_1)\n",
    "\n",
    "plt.pcolormesh(data_masked_1[:,:].T, vmin=0.0, vmax=10.0)\n",
    "plt.axes().set_aspect('equal', 'datalim')\n",
    "plt.xlabel('x')\n",
    "plt.ylabel('y')\n",
    "plt.colorbar()\n",
    "plt.show()\n"
   ]
  },
  {
   "cell_type": "code",
   "execution_count": null,
   "metadata": {
    "collapsed": false,
    "deletable": true,
    "editable": true
   },
   "outputs": [],
   "source": [
    "\"\"\"\n",
    "Plot the second upsampled data.\n",
    "\"\"\"\n",
    "\n",
    "data_masked_2 = numpy.ma.masked_where(numpy.isnan(data_upsampled_2), data_upsampled_2)\n",
    "\n",
    "plt.pcolormesh(data_masked_2[:,:].T, vmin=0.0, vmax=10.0)\n",
    "plt.axes().set_aspect('equal', 'datalim')\n",
    "plt.xlabel('x')\n",
    "plt.ylabel('y')\n",
    "plt.colorbar()\n",
    "plt.show()\n"
   ]
  },
  {
   "cell_type": "code",
   "execution_count": null,
   "metadata": {
    "collapsed": false,
    "deletable": true,
    "editable": true
   },
   "outputs": [],
   "source": [
    "\"\"\"\n",
    "Plot the third upsampled data.\n",
    "\"\"\"\n",
    "\n",
    "data_masked_3 = numpy.ma.masked_where(numpy.isnan(data_upsampled_3), data_upsampled_3)\n",
    "\n",
    "plt.pcolormesh(data_masked_3[:,:].T, vmin=0.0, vmax=10.0)\n",
    "plt.axes().set_aspect('equal', 'datalim')\n",
    "plt.xlabel('x')\n",
    "plt.ylabel('y')\n",
    "plt.colorbar()\n",
    "plt.show()\n"
   ]
  },
  {
   "cell_type": "code",
   "execution_count": null,
   "metadata": {
    "collapsed": false,
    "deletable": true,
    "editable": true
   },
   "outputs": [],
   "source": [
    "\"\"\"\n",
    "Plot the fourth upsampled data.\n",
    "\"\"\"\n",
    "\n",
    "data_masked_4 = numpy.ma.masked_where(numpy.isnan(data_upsampled_4), data_upsampled_4)\n",
    "\n",
    "plt.pcolormesh(data_masked_4[:,:].T, vmin=0.0, vmax=10.0)\n",
    "plt.axes().set_aspect('equal', 'datalim')\n",
    "plt.xlabel('x')\n",
    "plt.ylabel('y')\n",
    "plt.colorbar()\n",
    "plt.show()\n"
   ]
  },
  {
   "cell_type": "code",
   "execution_count": null,
   "metadata": {
    "collapsed": true,
    "deletable": true,
    "editable": true
   },
   "outputs": [],
   "source": []
  }
 ],
 "metadata": {
  "kernelspec": {
   "display_name": "Python 2",
   "language": "python",
   "name": "python2"
  },
  "language_info": {
   "codemirror_mode": {
    "name": "ipython",
    "version": 2
   },
   "file_extension": ".py",
   "mimetype": "text/x-python",
   "name": "python",
   "nbconvert_exporter": "python",
   "pygments_lexer": "ipython2",
   "version": "2.7.9"
  }
 },
 "nbformat": 4,
 "nbformat_minor": 0
}
