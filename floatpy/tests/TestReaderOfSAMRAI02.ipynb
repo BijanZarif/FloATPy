{
 "cells": [
  {
   "cell_type": "code",
   "execution_count": 1,
   "metadata": {
    "collapsed": false,
    "deletable": true,
    "editable": true
   },
   "outputs": [],
   "source": [
    "\"\"\"\n",
    "Script to test the SAMRAI data reader for data from all levels.\n",
    "\"\"\"\n",
    "\n",
    "from floatpy.readers import samrai\n",
    "import numpy\n",
    "\n",
    "%matplotlib inline\n",
    "from matplotlib import pyplot as plt\n",
    "plt.rc(\"savefig\", dpi = 150)\n"
   ]
  },
  {
   "cell_type": "code",
   "execution_count": 2,
   "metadata": {
    "collapsed": false,
    "deletable": true,
    "editable": true
   },
   "outputs": [],
   "source": [
    "\"\"\"\n",
    "Set the path of the data directory for the data reader.\n",
    "\"\"\"\n",
    "\n",
    "data_reader = samrai.samraiDataReader()\n",
    "data_reader.setDataDirectoryPath('/mnt/b9e17de4-9838-4425-ad4c-dc2ad3e41075/manlong/HAMeRS/tests/' + \\\n",
    "                                 '2D_Poggi_Richtmyer_Meshkov_instability/2D_Poggi_Richtmyer_Meshkov_instability_1/' + \\\n",
    "                                 'viz_2D_Poggi_Richtmyer_Meshkov_instability/visit_dump.12002/')\n"
   ]
  },
  {
   "cell_type": "code",
   "execution_count": 3,
   "metadata": {
    "collapsed": false,
    "deletable": true,
    "editable": true
   },
   "outputs": [
    {
     "name": "stdout",
     "output_type": "stream",
     "text": [
      "[5000  500]\n"
     ]
    }
   ],
   "source": [
    "\"\"\"\n",
    "Try to read the full domain shape refined to the highest level. \n",
    "\"\"\"\n",
    "\n",
    "data_reader.readSummary()\n",
    "\n",
    "domain_shape = data_reader.getRefinedDomainSize()\n",
    "\n",
    "print domain_shape\n"
   ]
  },
  {
   "cell_type": "code",
   "execution_count": 4,
   "metadata": {
    "collapsed": false,
    "deletable": true,
    "editable": true
   },
   "outputs": [
    {
     "name": "stdout",
     "output_type": "stream",
     "text": [
      "(1, 5000, 508)\n",
      "(2, 5000, 508)\n"
     ]
    }
   ],
   "source": [
    "\"\"\"\n",
    "Try to read the density and velocity data from all levels.\n",
    "\"\"\"\n",
    "\n",
    "var_names = ['density', 'velocity']\n",
    "num_ghosts = numpy.array([0, 4], dtype = numpy.int)\n",
    "periodic_dimension = numpy.array([False, True], dtype = numpy.bool)\n",
    "\n",
    "data_reader.readCombinedDataFromAllLevels(var_names, num_ghosts, periodic_dimension)\n",
    "\n",
    "x_coords, y_coords, z_coords = data_reader.getDataCoordinates()\n",
    "data_rho = data_reader.getData('density')\n",
    "data_vel = data_reader.getData('velocity')\n",
    "\n",
    "print data_rho.shape\n",
    "print data_vel.shape\n"
   ]
  },
  {
   "cell_type": "code",
   "execution_count": 5,
   "metadata": {
    "collapsed": false,
    "deletable": true,
    "editable": true
   },
   "outputs": [
    {
     "name": "stdout",
     "output_type": "stream",
     "text": [
      "[ 12.74021721  12.74021721  12.74021721  12.74021721]\n",
      "[ 12.74021721  12.74021721  12.74021721  12.74021721]\n",
      "[ 12.74021721  12.74021721  12.74021721  12.74021721]\n",
      "[ 12.74021721  12.74021721  12.74021721  12.74021721]\n"
     ]
    }
   ],
   "source": [
    "\"\"\"\n",
    "Check the values of the ghost cells.\n",
    "\"\"\"\n",
    "\n",
    "print data_rho[0, 0, 0:4]\n",
    "print data_rho[0, 0, -4*2:-4]\n",
    "\n",
    "print data_rho[0, 0, -4:]\n",
    "print data_rho[0, 0, 4:8]\n"
   ]
  },
  {
   "cell_type": "code",
   "execution_count": 1,
   "metadata": {
    "collapsed": false,
    "deletable": true,
    "editable": true
   },
   "outputs": [
    {
     "ename": "NameError",
     "evalue": "name 'numpy' is not defined",
     "output_type": "error",
     "traceback": [
      "\u001b[0;31m---------------------------------------------------------------------------\u001b[0m\n\u001b[0;31mNameError\u001b[0m                                 Traceback (most recent call last)",
      "\u001b[0;32m<ipython-input-1-592bb1936dd8>\u001b[0m in \u001b[0;36m<module>\u001b[0;34m()\u001b[0m\n\u001b[1;32m      3\u001b[0m \"\"\"\n\u001b[1;32m      4\u001b[0m \u001b[0;34m\u001b[0m\u001b[0m\n\u001b[0;32m----> 5\u001b[0;31m \u001b[0mdata_masked\u001b[0m \u001b[0;34m=\u001b[0m \u001b[0mnumpy\u001b[0m\u001b[0;34m.\u001b[0m\u001b[0mma\u001b[0m\u001b[0;34m.\u001b[0m\u001b[0mmasked_where\u001b[0m\u001b[0;34m(\u001b[0m\u001b[0mnumpy\u001b[0m\u001b[0;34m.\u001b[0m\u001b[0misnan\u001b[0m\u001b[0;34m(\u001b[0m\u001b[0mdata_rho\u001b[0m\u001b[0;34m)\u001b[0m\u001b[0;34m,\u001b[0m \u001b[0mdata_rho\u001b[0m\u001b[0;34m)\u001b[0m\u001b[0;34m\u001b[0m\u001b[0m\n\u001b[0m\u001b[1;32m      6\u001b[0m \u001b[0mX\u001b[0m\u001b[0;34m,\u001b[0m \u001b[0mY\u001b[0m \u001b[0;34m=\u001b[0m \u001b[0mnumpy\u001b[0m\u001b[0;34m.\u001b[0m\u001b[0mmeshgrid\u001b[0m\u001b[0;34m(\u001b[0m\u001b[0mx_coords\u001b[0m\u001b[0;34m,\u001b[0m \u001b[0my_coords\u001b[0m\u001b[0;34m)\u001b[0m\u001b[0;34m\u001b[0m\u001b[0m\n\u001b[1;32m      7\u001b[0m \u001b[0;34m\u001b[0m\u001b[0m\n",
      "\u001b[0;31mNameError\u001b[0m: name 'numpy' is not defined"
     ]
    }
   ],
   "source": [
    "\"\"\"\n",
    "Plot the level of data. (NAN for non-existing data)\n",
    "\"\"\"\n",
    "\n",
    "data_masked = numpy.ma.masked_where(numpy.isnan(data_rho), data_rho)\n",
    "X, Y = numpy.meshgrid(x_coords, y_coords)\n",
    "\n",
    "plt.pcolormesh(X, Y, data_masked[0,:,:].T)\n",
    "plt.axes().set_aspect('equal', 'datalim')\n",
    "plt.xlabel('x')\n",
    "plt.ylabel('y')\n",
    "plt.show()\n"
   ]
  },
  {
   "cell_type": "code",
   "execution_count": 6,
   "metadata": {
    "collapsed": false,
    "deletable": true,
    "editable": true
   },
   "outputs": [],
   "source": []
  }
 ],
 "metadata": {
  "kernelspec": {
   "display_name": "Python 2",
   "language": "python",
   "name": "python2"
  },
  "language_info": {
   "codemirror_mode": {
    "name": "ipython",
    "version": 2
   },
   "file_extension": ".py",
   "mimetype": "text/x-python",
   "name": "python",
   "nbconvert_exporter": "python",
   "pygments_lexer": "ipython2",
   "version": "2.7.9"
  }
 },
 "nbformat": 4,
 "nbformat_minor": 0
}
