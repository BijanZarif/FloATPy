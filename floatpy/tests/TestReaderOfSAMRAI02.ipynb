{
 "metadata": {
  "name": "",
  "signature": "sha256:4ed889fc6bf6731a2de1db3b48c6045de45cdb0c20f6a8e3487da0b5e9edaa79"
 },
 "nbformat": 3,
 "nbformat_minor": 0,
 "worksheets": [
  {
   "cells": [
    {
     "cell_type": "code",
     "collapsed": false,
     "input": [
      "\"\"\"\n",
      "Script to test the SAMRAI data reader for data from all levels.\n",
      "\"\"\"\n",
      "\n",
      "from floatpy.readers import samrai\n",
      "import numpy\n",
      "\n",
      "%matplotlib inline\n",
      "from matplotlib import pyplot as plt\n",
      "plt.rc(\"savefig\", dpi = 150)\n"
     ],
     "language": "python",
     "metadata": {},
     "outputs": [],
     "prompt_number": 1
    },
    {
     "cell_type": "code",
     "collapsed": false,
     "input": [
      "\"\"\"\n",
      "Set the path of the data directory for the data reader.\n",
      "\"\"\"\n",
      "\n",
      "data_reader = samrai.samraiDataReader()\n",
      "data_reader.setDataDirectoryPath('/mnt/b9e17de4-9838-4425-ad4c-dc2ad3e41075/manlong/HAMeRS/tests/' + \\\n",
      "                                 '2D_Poggi_Richtmyer_Meshkov_instability/2D_Poggi_Richtmyer_Meshkov_instability_1/' + \\\n",
      "                                 'viz_2D_Poggi_Richtmyer_Meshkov_instability/visit_dump.12002/')\n"
     ],
     "language": "python",
     "metadata": {},
     "outputs": [],
     "prompt_number": 2
    },
    {
     "cell_type": "code",
     "collapsed": false,
     "input": [
      "\"\"\"\n",
      "Try to read the full domain shape refined to the highest level. \n",
      "\"\"\"\n",
      "\n",
      "data_reader.readSummary()\n",
      "\n",
      "domain_shape = data_reader.getRefinedDomainSize()\n",
      "\n",
      "print domain_shape\n"
     ],
     "language": "python",
     "metadata": {},
     "outputs": [
      {
       "output_type": "stream",
       "stream": "stdout",
       "text": [
        "[5000  500]\n"
       ]
      }
     ],
     "prompt_number": 3
    },
    {
     "cell_type": "code",
     "collapsed": false,
     "input": [
      "\"\"\"\n",
      "Try to read the density and velocity data from all levels.\n",
      "\"\"\"\n",
      "\n",
      "var_names = ['density', 'velocity']\n",
      "num_ghosts = numpy.array([0, 4], dtype = numpy.int)\n",
      "periodic_dimension = numpy.array([False, True], dtype = numpy.bool)\n",
      "\n",
      "data_reader.readCombinedDataFromAllLevels(var_names, num_ghosts, periodic_dimension)\n",
      "\n",
      "x_coords, y_coords, z_coords = data_reader.getDataCoordinates()\n",
      "data_rho = data_reader.getData('density')\n",
      "data_vel = data_reader.getData('velocity')\n",
      "\n",
      "print data_rho.shape\n",
      "print data_vel.shape\n"
     ],
     "language": "python",
     "metadata": {},
     "outputs": [
      {
       "output_type": "stream",
       "stream": "stdout",
       "text": [
        "(1, 5000, 508)\n",
        "(2, 5000, 508)\n"
       ]
      }
     ],
     "prompt_number": 4
    },
    {
     "cell_type": "code",
     "collapsed": false,
     "input": [
      "\"\"\"\n",
      "Check the values of the ghost cells.\n",
      "\"\"\"\n",
      "\n",
      "print data_rho[0, 0, 0:4]\n",
      "print data_rho[0, 0, -4*2:-4]\n",
      "\n",
      "print data_rho[0, 0, -4:]\n",
      "print data_rho[0, 0, 4:8]\n"
     ],
     "language": "python",
     "metadata": {},
     "outputs": [
      {
       "output_type": "stream",
       "stream": "stdout",
       "text": [
        "[ 12.74021721  12.74021721  12.74021721  12.74021721]\n",
        "[ 12.74021721  12.74021721  12.74021721  12.74021721]\n",
        "[ 12.74021721  12.74021721  12.74021721  12.74021721]\n",
        "[ 12.74021721  12.74021721  12.74021721  12.74021721]\n"
       ]
      }
     ],
     "prompt_number": 5
    },
    {
     "cell_type": "code",
     "collapsed": false,
     "input": [
      "\"\"\"\n",
      "Plot the level of data. (NAN for non-existing data)\n",
      "\"\"\"\n",
      "\n",
      "data_masked = numpy.ma.masked_where(numpy.isnan(data_rho), data_rho)\n",
      "X, Y = numpy.meshgrid(x_coords, y_coords)\n",
      "\n",
      "plt.pcolormesh(X, Y, data_masked[0,:,:].T)\n",
      "plt.axes().set_aspect('equal', 'datalim')\n",
      "plt.xlabel('x')\n",
      "plt.ylabel('y')\n",
      "plt.show()\n"
     ],
     "language": "python",
     "metadata": {},
     "outputs": [
      {
       "ename": "NameError",
       "evalue": "name 'numpy' is not defined",
       "output_type": "pyerr",
       "traceback": [
        "\u001b[0;31m---------------------------------------------------------------------------\u001b[0m\n\u001b[0;31mNameError\u001b[0m                                 Traceback (most recent call last)",
        "\u001b[0;32m<ipython-input-1-592bb1936dd8>\u001b[0m in \u001b[0;36m<module>\u001b[0;34m()\u001b[0m\n\u001b[1;32m      3\u001b[0m \"\"\"\n\u001b[1;32m      4\u001b[0m \u001b[0;34m\u001b[0m\u001b[0m\n\u001b[0;32m----> 5\u001b[0;31m \u001b[0mdata_masked\u001b[0m \u001b[0;34m=\u001b[0m \u001b[0mnumpy\u001b[0m\u001b[0;34m.\u001b[0m\u001b[0mma\u001b[0m\u001b[0;34m.\u001b[0m\u001b[0mmasked_where\u001b[0m\u001b[0;34m(\u001b[0m\u001b[0mnumpy\u001b[0m\u001b[0;34m.\u001b[0m\u001b[0misnan\u001b[0m\u001b[0;34m(\u001b[0m\u001b[0mdata_rho\u001b[0m\u001b[0;34m)\u001b[0m\u001b[0;34m,\u001b[0m \u001b[0mdata_rho\u001b[0m\u001b[0;34m)\u001b[0m\u001b[0;34m\u001b[0m\u001b[0m\n\u001b[0m\u001b[1;32m      6\u001b[0m \u001b[0mX\u001b[0m\u001b[0;34m,\u001b[0m \u001b[0mY\u001b[0m \u001b[0;34m=\u001b[0m \u001b[0mnumpy\u001b[0m\u001b[0;34m.\u001b[0m\u001b[0mmeshgrid\u001b[0m\u001b[0;34m(\u001b[0m\u001b[0mx_coords\u001b[0m\u001b[0;34m,\u001b[0m \u001b[0my_coords\u001b[0m\u001b[0;34m)\u001b[0m\u001b[0;34m\u001b[0m\u001b[0m\n\u001b[1;32m      7\u001b[0m \u001b[0;34m\u001b[0m\u001b[0m\n",
        "\u001b[0;31mNameError\u001b[0m: name 'numpy' is not defined"
       ]
      }
     ],
     "prompt_number": 1
    },
    {
     "cell_type": "code",
     "collapsed": false,
     "input": [],
     "language": "python",
     "metadata": {},
     "outputs": [],
     "prompt_number": 6
    }
   ],
   "metadata": {}
  }
 ]
}