{
 "cells": [
  {
   "cell_type": "code",
   "execution_count": 2,
   "metadata": {},
   "outputs": [
    {
     "ename": "ImportError",
     "evalue": "No module named floatpy.derivatives.first",
     "output_type": "error",
     "traceback": [
      "\u001b[0;31m---------------------------------------------------------------------------\u001b[0m",
      "\u001b[0;31mImportError\u001b[0m                               Traceback (most recent call last)",
      "\u001b[0;32m<ipython-input-2-e00b3b165551>\u001b[0m in \u001b[0;36m<module>\u001b[0;34m()\u001b[0m\n\u001b[1;32m      3\u001b[0m \"\"\"\n\u001b[1;32m      4\u001b[0m \u001b[0;34m\u001b[0m\u001b[0m\n\u001b[0;32m----> 5\u001b[0;31m \u001b[0;32mimport\u001b[0m \u001b[0mfloatpy\u001b[0m\u001b[0;34m.\u001b[0m\u001b[0mderivatives\u001b[0m\u001b[0;34m.\u001b[0m\u001b[0mfirst\u001b[0m\u001b[0;34m\u001b[0m\u001b[0m\n\u001b[0m\u001b[1;32m      6\u001b[0m \u001b[0;32mimport\u001b[0m \u001b[0mnumpy\u001b[0m\u001b[0;34m\u001b[0m\u001b[0m\n\u001b[1;32m      7\u001b[0m \u001b[0;34m\u001b[0m\u001b[0m\n",
      "\u001b[0;31mImportError\u001b[0m: No module named floatpy.derivatives.first"
     ]
    }
   ],
   "source": [
    "\"\"\"\n",
    "Script to test the finite difference schemes for first derivative.\n",
    "\"\"\"\n",
    "\n",
    "import floatpy.derivatives.first\n",
    "import numpy\n",
    "\n",
    "%matplotlib inline\n",
    "from matplotlib import pyplot as plt\n",
    "plt.rc(\"savefig\", dpi = 150)\n"
   ]
  },
  {
   "cell_type": "code",
   "execution_count": null,
   "metadata": {},
   "outputs": [],
   "source": [
    "\"\"\"\n",
    "Test the first derivatives in the first direction.\n",
    "\"\"\"\n",
    "\n",
    "x = numpy.empty([1, 50])\n",
    "x[0, :] = numpy.linspace(0, 2*numpy.pi, 50)\n",
    "dx = x[0, 1] - x[0, 0]\n",
    "\n",
    "y = numpy.sin(x)\n",
    "y_prime_exact = numpy.cos(x)\n",
    "\n",
    "y_prime_2 = floatpy.derivatives.first.computeSecondOrderFirstDerivative(y, dx)\n",
    "y_prime_4 = floatpy.derivatives.first.computeFourthOrderFirstDerivative(y, dx)\n",
    "y_prime_6 = floatpy.derivatives.first.computeSixthOrderFirstDerivative(y, dx)\n",
    "\n",
    "# Compare the the first derivatives.\n",
    "\n",
    "fig, ax = plt.subplots()\n",
    "ax.plot(x[0, :], y_prime_2, linestyle = ':', label='second order', linewidth=3)\n",
    "ax.plot(x[0, :], y_prime_4, linestyle = '--', label='fourth order', linewidth=3)\n",
    "ax.plot(x[0, :], y_prime_6, linestyle = '-.', label='sixth order', linewidth=3)\n",
    "ax.plot(x[0, :], y_prime_exact[0, :], label='exact', linewidth=1)\n",
    "\n",
    "plt.xlim(0.0, 2.0*numpy.pi)\n",
    "plt.ylim(-1.0, 1.0)\n",
    "plt.tick_params(axis='both', which='major', labelsize=12)\n",
    "\n",
    "plt.xlabel('x', fontsize=14)\n",
    "plt.ylabel('y', fontsize=14)\n",
    "\n",
    "legend = ax.legend(loc='lower right', shadow = True)"
   ]
  },
  {
   "cell_type": "code",
   "execution_count": null,
   "metadata": {},
   "outputs": [],
   "source": [
    "\"\"\"\n",
    "Test the first derivatives in the second direction.\n",
    "\"\"\"\n",
    "\n",
    "x = numpy.empty([1, 1, 50])\n",
    "x[0, 0, :] = numpy.linspace(0, 2*numpy.pi, 50)\n",
    "dx = x[0, 0, 1] - x[0, 0, 0]\n",
    "\n",
    "y = numpy.sin(x)\n",
    "y_prime_exact = numpy.cos(x)\n",
    "\n",
    "y_prime_2 = floatpy.derivatives.first.computeSecondOrderFirstDerivative(y, dx, 1)\n",
    "y_prime_4 = floatpy.derivatives.first.computeFourthOrderFirstDerivative(y, dx, 1)\n",
    "y_prime_6 = floatpy.derivatives.first.computeSixthOrderFirstDerivative(y, dx, 1)\n",
    "\n",
    "# Compare the the first derivatives.\n",
    "\n",
    "fig, ax = plt.subplots()\n",
    "ax.plot(x[0, 0, :], y_prime_2[0, :], linestyle = ':', label='second order', linewidth=3)\n",
    "ax.plot(x[0, 0, :], y_prime_4[0, :], linestyle = '--', label='fourth order', linewidth=3)\n",
    "ax.plot(x[0, 0, :], y_prime_6[0, :], linestyle = '-.', label='sixth order', linewidth=3)\n",
    "ax.plot(x[0, 0, :], y_prime_exact[0, 0, :], label='exact', linewidth=1)\n",
    "\n",
    "plt.xlim(0.0, 2.0*numpy.pi)\n",
    "plt.ylim(-1.0, 1.0)\n",
    "plt.tick_params(axis='both', which='major', labelsize=12)\n",
    "\n",
    "plt.xlabel('x', fontsize=14)\n",
    "plt.ylabel('y', fontsize=14)\n",
    "\n",
    "legend = ax.legend(loc='lower right', shadow = True)"
   ]
  },
  {
   "cell_type": "code",
   "execution_count": null,
   "metadata": {},
   "outputs": [],
   "source": [
    "\"\"\"\n",
    "Test the first derivatives in the third direction.\n",
    "\"\"\"\n",
    "\n",
    "x = numpy.empty([1, 1, 1, 50])\n",
    "x[0, 0, 0, :] = numpy.linspace(0, 2*numpy.pi, 50)\n",
    "dx = x[0, 0, 0, 1] - x[0, 0, 0, 0]\n",
    "\n",
    "y = numpy.sin(x)\n",
    "y_prime_exact = numpy.cos(x)\n",
    "\n",
    "y_prime_2 = floatpy.derivatives.first.computeSecondOrderFirstDerivative(y, dx, 2)\n",
    "y_prime_4 = floatpy.derivatives.first.computeFourthOrderFirstDerivative(y, dx, 2)\n",
    "y_prime_6 = floatpy.derivatives.first.computeSixthOrderFirstDerivative(y, dx, 2)\n",
    "\n",
    "# Compare the the first derivatives.\n",
    "\n",
    "fig, ax = plt.subplots()\n",
    "ax.plot(x[0, 0, 0, :], y_prime_2[0, 0, :], linestyle = ':', label='second order', linewidth=3)\n",
    "ax.plot(x[0, 0, 0, :], y_prime_4[0, 0, :], linestyle = '--', label='fourth order', linewidth=3)\n",
    "ax.plot(x[0, 0, 0, :], y_prime_6[0, 0, :], linestyle = '-.', label='sixth order', linewidth=3)\n",
    "ax.plot(x[0, 0, 0, :], y_prime_exact[0, 0, 0, :], label='exact', linewidth=1)\n",
    "\n",
    "plt.xlim(0.0, 2.0*numpy.pi)\n",
    "plt.ylim(-1.0, 1.0)\n",
    "plt.tick_params(axis='both', which='major', labelsize=12)\n",
    "\n",
    "plt.xlabel('x', fontsize=14)\n",
    "plt.ylabel('y', fontsize=14)\n",
    "\n",
    "legend = ax.legend(loc='lower right', shadow = True)"
   ]
  },
  {
   "cell_type": "code",
   "execution_count": null,
   "metadata": {},
   "outputs": [],
   "source": []
  }
 ],
 "metadata": {
  "kernelspec": {
   "display_name": "Python 2",
   "language": "python",
   "name": "python2"
  },
  "language_info": {
   "codemirror_mode": {
    "name": "ipython",
    "version": 2
   },
   "file_extension": ".py",
   "mimetype": "text/x-python",
   "name": "python",
   "nbconvert_exporter": "python",
   "pygments_lexer": "ipython2",
   "version": "2.7.12"
  }
 },
 "nbformat": 4,
 "nbformat_minor": 1
}
